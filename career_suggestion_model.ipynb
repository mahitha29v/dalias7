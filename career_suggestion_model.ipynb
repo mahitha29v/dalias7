{
  "nbformat": 4,
  "nbformat_minor": 0,
  "metadata": {
    "colab": {
      "provenance": [],
      "authorship_tag": "ABX9TyPPVALSDQ/ItKNVCX11ydE/",
      "include_colab_link": true
    },
    "kernelspec": {
      "name": "python3",
      "display_name": "Python 3"
    },
    "language_info": {
      "name": "python"
    }
  },
  "cells": [
    {
      "cell_type": "markdown",
      "metadata": {
        "id": "view-in-github",
        "colab_type": "text"
      },
      "source": [
        "<a href=\"https://colab.research.google.com/github/mahitha29v/dalias7/blob/main/career_suggestion_model.ipynb\" target=\"_parent\"><img src=\"https://colab.research.google.com/assets/colab-badge.svg\" alt=\"Open In Colab\"/></a>"
      ]
    },
    {
      "cell_type": "markdown",
      "source": [],
      "metadata": {
        "id": "Dulo2YLDLZGg"
      }
    },
    {
      "cell_type": "code",
      "source": [
        "import pandas as pd\n",
        "from sklearn.model_selection import train_test_split\n",
        "from sklearn.ensemble import RandomForestClassifier\n",
        "from sklearn.preprocessing import LabelEncoder\n",
        "from sklearn.metrics import accuracy_score\n",
        "df=pd.read_csv('dataset.csv')\n",
        "c=df.columns[:-1]\n",
        "for i in c:df[i]=pd.to_numeric(df[i],errors='coerce')\n",
        "df=df.dropna()\n",
        "X=df[c]\n",
        "y=df.iloc[:,-1]\n",
        "le=LabelEncoder()\n",
        "y=le.fit_transform(y)\n",
        "X_train,X_test,y_train,y_test=train_test_split(X,y,test_size=0.2,random_state=42)\n",
        "m=RandomForestClassifier(n_estimators=100,random_state=42)\n",
        "m.fit(X_train,y_train)\n",
        "print(\"Accuracy:\",accuracy_score(y_test,m.predict(X_test))*100)\n",
        "v=[int(input(f\"{i} (1-5):\")) for i in c]\n",
        "print(\"Predicted Domain:\",le.inverse_transform(m.predict(pd.DataFrame([v],columns=c)))[0])\n"
      ],
      "metadata": {
        "id": "lqpvlW0ATKed"
      },
      "execution_count": null,
      "outputs": []
    }
  ]
}