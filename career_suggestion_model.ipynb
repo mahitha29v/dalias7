{
  "nbformat": 4,
  "nbformat_minor": 0,
  "metadata": {
    "colab": {
      "provenance": [],
      "authorship_tag": "ABX9TyPPVALSDQ/ItKNVCX11ydE/"
    },
    "kernelspec": {
      "name": "python3",
      "display_name": "Python 3"
    },
    "language_info": {
      "name": "python"
    }
  },
  "cells": [
    {
      "cell_type": "markdown",
      "source": [],
      "metadata": {
        "id": "Dulo2YLDLZGg"
      }
    },
    {
      "cell_type": "code",
      "source": [
        "import pandas as pd\n",
        "from sklearn.model_selection import train_test_split\n",
        "from sklearn.ensemble import RandomForestClassifier\n",
        "from sklearn.preprocessing import LabelEncoder\n",
        "from sklearn.metrics import accuracy_score\n",
        "df=pd.read_csv('dataset.csv')\n",
        "c=df.columns[:-1]\n",
        "for i in c:df[i]=pd.to_numeric(df[i],errors='coerce')\n",
        "df=df.dropna()\n",
        "X=df[c]\n",
        "y=df.iloc[:,-1]\n",
        "le=LabelEncoder()\n",
        "y=le.fit_transform(y)\n",
        "X_train,X_test,y_train,y_test=train_test_split(X,y,test_size=0.2,random_state=42)\n",
        "m=RandomForestClassifier(n_estimators=100,random_state=42)\n",
        "m.fit(X_train,y_train)\n",
        "print(\"Accuracy:\",accuracy_score(y_test,m.predict(X_test))*100)\n",
        "v=[int(input(f\"{i} (1-5):\")) for i in c]\n",
        "print(\"Predicted Domain:\",le.inverse_transform(m.predict(pd.DataFrame([v],columns=c)))[0])\n"
      ],
      "metadata": {
        "colab": {
          "base_uri": "https://localhost:8080/"
        },
        "id": "lqpvlW0ATKed",
        "outputId": "0ea2d842-5dc7-4195-a95a-d0080754b0aa"
      },
      "execution_count": 30,
      "outputs": [
        {
          "output_type": "stream",
          "name": "stdout",
          "text": [
            "Accuracy: 82.4074074074074\n",
            "Do you like solving puzzles/logical problems? (1-5):5\n",
            "Do you enjoy coding/programming? (1-5):5\n",
            "Do you like drawing/designing things? (1-5):5\n",
            "Do you like analyzing numbers and data? (1-5):5\n",
            "Do you like reading research/theory? (1-5):5\n",
            "Do you worry about security/safety in tech? (1-5):5\n",
            "Do you like making apps for phones? (1-5):5\n",
            "Do you enjoy designing websites visually? (1-5):4\n",
            "Do you like working with hardware/electronics? (1-5):1\n",
            "Do you enjoy playing/building games? (1-5):1\n",
            "Do you like teamwork/leading others? (1-5):1\n",
            "Do you enjoy working with databases and SQL? (1-5):1\n",
            "Do you enjoy deploying/maintaining servers or infrastructure? (1-5):1\n",
            "Do you enjoy automating workflows and CI/CD? (1-5):1\n",
            "Do you like writing tests and ensuring quality? (1-5):1\n",
            "Do you enjoy optimizing performance and low-level systems? (1-5):1\n",
            "Do you enjoy exploring new tech trends like AR/VR? (1-5):1\n",
            "Are you interested in blockchain or crypto technologies? (1-5):1\n",
            "Do you enjoy writing documentation and communicating ideas? (1-5):1\n",
            "Do you prefer building user interfaces over backend logic? (1-5):2\n",
            "Do you enjoy troubleshooting/debugging complex issues? (1-5):3\n",
            "Do you enjoy understanding user/business needs and planning features? (1-5):4\n",
            "Predicted Domain: AI/ML\n"
          ]
        }
      ]
    }
  ]
}